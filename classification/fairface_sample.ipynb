{
 "cells": [
  {
   "cell_type": "markdown",
   "metadata": {},
   "source": [
    "# Saves a Sample Dataset for FairFace"
   ]
  },
  {
   "cell_type": "markdown",
   "metadata": {},
   "source": [
    "- 10 from each ethnicity"
   ]
  },
  {
   "cell_type": "code",
   "execution_count": 1,
   "metadata": {},
   "outputs": [],
   "source": [
    "import sys\n",
    "sys.path.append('..')"
   ]
  },
  {
   "cell_type": "code",
   "execution_count": 16,
   "metadata": {},
   "outputs": [],
   "source": [
    "from src.data_loader import FairFaceData\n",
    "import pandas as pd\n",
    "from pathlib import Path"
   ]
  },
  {
   "cell_type": "code",
   "execution_count": 3,
   "metadata": {},
   "outputs": [],
   "source": [
    "fface = FairFaceData(root = '..')"
   ]
  },
  {
   "cell_type": "code",
   "execution_count": 8,
   "metadata": {},
   "outputs": [
    {
     "data": {
      "text/plain": [
       "{'age': {'50-59': 0,\n",
       "  '30-39': 1,\n",
       "  '3-9': 2,\n",
       "  '20-29': 3,\n",
       "  '40-49': 4,\n",
       "  '10-19': 5,\n",
       "  '60-69': 6,\n",
       "  '0-2': 7,\n",
       "  'more than 70': 8},\n",
       " 'gender': {'Male': 1, 'Female': 0},\n",
       " 'race': {'East Asian': 0,\n",
       "  'Indian': 1,\n",
       "  'Black': 2,\n",
       "  'White': 3,\n",
       "  'Middle Eastern': 4,\n",
       "  'Latino_Hispanic': 5,\n",
       "  'Southeast Asian': 6},\n",
       " 'service_test': {True: 0, False: 1}}"
      ]
     },
     "execution_count": 8,
     "metadata": {},
     "output_type": "execute_result"
    }
   ],
   "source": [
    "fface.attr_map"
   ]
  },
  {
   "cell_type": "code",
   "execution_count": 10,
   "metadata": {},
   "outputs": [],
   "source": [
    "# seperate \n",
    "eadata = fface.filter_dataset(filter_={'race': 'East Asian'})\n",
    "inddata = fface.filter_dataset(filter_={'race': 'Indian'})\n",
    "whitedata = fface.filter_dataset(filter_={'race': 'White'})\n",
    "blackdata = fface.filter_dataset(filter_={'race': 'Black'})\n",
    "medata = fface.filter_dataset(filter_={'race': 'Middle Eastern'})\n",
    "lhdata = fface.filter_dataset(filter_={'race': 'Latino_Hispanic'})\n",
    "sedata = fface.filter_dataset(filter_={'race': 'Southeast Asian'})\n",
    "datasets = [eadata, inddata, whitedata, blackdata, medata, lhdata, sedata]"
   ]
  },
  {
   "cell_type": "code",
   "execution_count": 25,
   "metadata": {},
   "outputs": [],
   "source": [
    "# save dataframe reference & images\n",
    "data_path = Path('../data_sample/fairface-img-margin025-trainval/')\n",
    "(data_path / 'train').mkdir(exist_ok=True, parents=True)\n",
    "(data_path / 'val').mkdir(exist_ok=True, parents=True)\n",
    "\n",
    "df = pd.DataFrame()\n",
    "for dset in datasets:\n",
    "    first_10 = dset.indices[:10]\n",
    "    tmp_df = fface.attr_filter_orig.iloc[first_10]\n",
    "    df = pd.concat([df, tmp_df])\n",
    "    for idx in first_10:\n",
    "        filepath = data_path / tmp_df['file'][idx]\n",
    "        dset[idx][0].save(filepath)\n",
    "        \n",
    "df.to_csv('../data_sample/fairface_label_train.csv', index = False)\n",
    "# dummy empty for val\n",
    "pd.DataFrame(columns = df.columns).to_csv('../data_sample/fairface_label_val.csv', index = False)"
   ]
  },
  {
   "cell_type": "code",
   "execution_count": 26,
   "metadata": {},
   "outputs": [],
   "source": [
    "# load to test\n",
    "fface_sample = FairFaceData(root = '..', sample = True)"
   ]
  },
  {
   "cell_type": "code",
   "execution_count": 28,
   "metadata": {},
   "outputs": [
    {
     "data": {
      "text/plain": [
       "70"
      ]
     },
     "execution_count": 28,
     "metadata": {},
     "output_type": "execute_result"
    }
   ],
   "source": [
    "len(fface_sample)"
   ]
  },
  {
   "cell_type": "code",
   "execution_count": null,
   "metadata": {},
   "outputs": [],
   "source": []
  }
 ],
 "metadata": {
  "kernelspec": {
   "display_name": "Python 3.8.13 ('computer_vision')",
   "language": "python",
   "name": "python3"
  },
  "language_info": {
   "codemirror_mode": {
    "name": "ipython",
    "version": 3
   },
   "file_extension": ".py",
   "mimetype": "text/x-python",
   "name": "python",
   "nbconvert_exporter": "python",
   "pygments_lexer": "ipython3",
   "version": "3.8.13"
  },
  "orig_nbformat": 4,
  "vscode": {
   "interpreter": {
    "hash": "3a09185a5476e59ae8518d2033e1be0238327e15d48166ae9b66574c2ad9009a"
   }
  }
 },
 "nbformat": 4,
 "nbformat_minor": 2
}
