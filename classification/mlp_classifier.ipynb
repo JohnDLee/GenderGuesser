{
        "cells": [
                {
                        "cell_type": "code",
                        "execution_count": 3,
                        "metadata": {},
                        "outputs": [],
                        "source": [
                                "import sys\n",
                                "sys.path.append('..')\n",
                                "\n",
                                "import torch\n",
                                "import torch.nn as nn\n",
                                "from torch.nn.functional import relu, sigmoid\n",
                                "import pytorch_lightning"
                        ]
                },
                {
                        "cell_type": "markdown",
                        "metadata": {},
                        "source": [
                                "# MLP Classifier"
                        ]
                },
                {
                        "cell_type": "code",
                        "execution_count": 4,
                        "metadata": {},
                        "outputs": [],
                        "source": [
                                "from model import MLPClassifier"
                        ]
                },
                {
                        "cell_type": "code",
                        "execution_count": 5,
                        "metadata": {},
                        "outputs": [
                                {
                                        "data": {
                                                "text/plain": [
                                                        "MLPClassifier(\n",
                                                        "  (input): Linear(in_features=512, out_features=1000, bias=True)\n",
                                                        "  (hidden1): Linear(in_features=1000, out_features=1000, bias=True)\n",
                                                        "  (hidden2): Linear(in_features=1000, out_features=1000, bias=True)\n",
                                                        "  (out): Linear(in_features=1000, out_features=1, bias=True)\n",
                                                        ")"
                                                ]
                                        },
                                        "execution_count": 5,
                                        "metadata": {},
                                        "output_type": "execute_result"
                                }
                        ],
                        "source": [
                                "MLPClassifier()"
                        ]
                },
                {
                        "cell_type": "markdown",
                        "metadata": {},
                        "source": [
                                "```\n",
                                "Input: 512\n",
                                "ReLU\n",
                                "Hidden1: 1000\n",
                                "ReLU\n",
                                "Hidden2: 1000\n",
                                "ReLU\n",
                                "Out: 1\n",
                                "```"
                        ]
                },
                {
                        "cell_type": "code",
                        "execution_count": null,
                        "metadata": {},
                        "outputs": [],
                        "source": [
                                "class MLPClassifierWrapper(pytorch_lightning.LightningModule):\n",
                                "    \n",
                                "    \n",
                                "    def __init__(self):\n",
                                "        self.model = MLPClassifier()\n",
                                "        self.loss_func = nn.BCELoss()\n",
                                "    \n",
                                "    \n",
                                "    def training_step(self, batch, batch_idx):\n",
                                "        x, y = batch\n",
                                "        yhat = self.model(x)\n",
                                "        loss = self.loss_func(y, yhat)\n",
                                "        return loss\n",
                                "    \n",
                                "    def \n",
                                "        "
                        ]
                }
        ],
        "metadata": {
                "kernelspec": {
                        "display_name": "Python 3.8.13 ('computer_vision')",
                        "language": "python",
                        "name": "python3"
                },
                "language_info": {
                        "codemirror_mode": {
                                "name": "ipython",
                                "version": 3
                        },
                        "file_extension": ".py",
                        "mimetype": "text/x-python",
                        "name": "python",
                        "nbconvert_exporter": "python",
                        "pygments_lexer": "ipython3",
                        "version": "3.8.13"
                },
                "orig_nbformat": 4,
                "vscode": {
                        "interpreter": {
                                "hash": "3a09185a5476e59ae8518d2033e1be0238327e15d48166ae9b66574c2ad9009a"
                        }
                }
        },
        "nbformat": 4,
        "nbformat_minor": 2
}
